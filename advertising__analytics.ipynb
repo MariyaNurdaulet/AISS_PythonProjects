{
 "cells": [
  {
   "cell_type": "code",
   "execution_count": 2,
   "metadata": {},
   "outputs": [],
   "source": [
    "import pandas as pd\n",
    "import seaborn as sns\n",
    "import matplotlib.pyplot as plt \n",
    "\n",
    "%matplotlib inline"
   ]
  },
  {
   "cell_type": "code",
   "execution_count": 3,
   "metadata": {},
   "outputs": [],
   "source": [
    "#Tasks.Imagine that you got a job as an analyst in the advertising department, and your first task is to help colleagues sort out some issues:\n",
    "\n",
    "#Get statistics by day. Calculate the number of all events by day, the number of impressions, the number of clicks, the number of unique ads and unique campaigns.\n",
    "#Figure out why there was such a jump on 2019-04-05? What events have become more frequent? Do all ads or just some?\n",
    "#Find the top 10 ads by CTR for all time. CTR is the ratio of all ad clicks to views. For example, if an ad had 100 impressions and 2 clicks, CTR = 0.02. Does the average and median CTR of ads differ in our data?\n",
    "#It looks like there is a bug in our logs, ads come with clicks, but without impressions! How many such ads are there, are there any patterns? Is this problem observed on all platforms?\n",
    "#Are there any differences in CTR between ads with and without video? And what is the 95th percentile CTR for all ads for 2019-04-04?\n",
    "#For the financial report, we need to calculate our earnings by day. On which day did we earn the most? Which one is less? We charge customers money if there was a click on a CPC ad, and we charge money for each CPM ad impression, if the CPM ad has a price of 200 rubles, then we earn 200 / 1000 for one impression.\n",
    "#Which platform is the most popular for placing advertisements? How many percent of impressions are on each of the platforms (platform column)?\n",
    "#And are there any ads that were clicked on first and only then shown?\n",
    "   \n",
    "#Description of the columns\n",
    "#date — the day on which the events take place\n",
    "#time — the exact time of the event\n",
    "#event — the type of event, it can be either an impression or a click on an advertisement\n",
    "#platform — the platform on which the advertising event took place\n",
    "#ad_id — the ad ID\n",
    "#client_union_id — the ID of the advertising client\n",
    "#campaign_union_id — the ID of the advertising campaign\n",
    "#ad_cost_type is the type of ad with pay per click (CPC) or per impressions (CPM)\n",
    "#ad_cost is the cost of the ad in rubles, for CPC ads it is the cost per click, for CPM it is the price per 1000 impressions\n",
    "#has_video — does the ad have a video\n",
    "#target_audience_count — the size of the audience the ad is targeting"
   ]
  },
  {
   "cell_type": "code",
   "execution_count": null,
   "metadata": {},
   "outputs": [],
   "source": [
    "ads_data=pd.read_csv('/mnt/HC_Volume_18315164/home-jupyter/jupyter-m-nurdaulet/ads_data.csv.zip', compression ='zip')"
   ]
  },
  {
   "cell_type": "code",
   "execution_count": null,
   "metadata": {
    "scrolled": true
   },
   "outputs": [],
   "source": [
    "ads_data.head()"
   ]
  },
  {
   "cell_type": "code",
   "execution_count": null,
   "metadata": {},
   "outputs": [],
   "source": [
    "#Get statistics by day. Calculate the number of all events by day, the number of impressions, the number of clicks, the number of unique ads and unique campaigns.\n",
    "#Figure out why there was such a jump on 2019-04-05? What events have become more frequent? For all ads or only for"
   ]
  },
  {
   "cell_type": "code",
   "execution_count": null,
   "metadata": {},
   "outputs": [],
   "source": [
    "ads_data['full_date']=pd.to_datetime(ads_data.time, unit='s')\n",
    "\n",
    "# Convert timestamps in 'time' column to datetime format and assign to 'full_date' column.\n"
   ]
  },
  {
   "cell_type": "code",
   "execution_count": null,
   "metadata": {},
   "outputs": [],
   "source": [
    "ads_data['date']=pd.to_datetime(ads_data.date)\n",
    "# Convert 'date' column to datetime format using 'to_datetime' function from pandas library.\n"
   ]
  },
  {
   "cell_type": "code",
   "execution_count": null,
   "metadata": {},
   "outputs": [],
   "source": [
    "\n",
    "ads_data.head()"
   ]
  },
  {
   "cell_type": "code",
   "execution_count": null,
   "metadata": {},
   "outputs": [],
   "source": [
    "ads_data.shape"
   ]
  },
  {
   "cell_type": "code",
   "execution_count": null,
   "metadata": {
    "scrolled": true
   },
   "outputs": [],
   "source": [
    "ads_data.dtypes"
   ]
  },
  {
   "cell_type": "code",
   "execution_count": null,
   "metadata": {},
   "outputs": [],
   "source": [
    "ads_data.full_date.dt.day"
   ]
  },
  {
   "cell_type": "code",
   "execution_count": null,
   "metadata": {
    "scrolled": true
   },
   "outputs": [],
   "source": [
    "ads_data.groupby('date') \\\n",
    "   .agg({'ad_id':'count'}).plot()\n",
    "\n",
    "# Group the data by 'date' and aggregate the count of 'ad_id' for each date.\n",
    "# Then, create a plot of the counts over time.\n"
   ]
  },
  {
   "cell_type": "code",
   "execution_count": null,
   "metadata": {},
   "outputs": [],
   "source": [
    "ads_data.groupby(['date','event'],as_index=False) \\\n",
    "   .agg({'ad_id':'count'})\\\n",
    "   .pivot(index='date', columns='event', values='ad_id').reset_index()\n",
    "\n",
    "# Group the data by 'date' and 'event', aggregating the count of 'ad_id' for each combination.\n",
    "# Pivot the resulting DataFrame to reshape it so that each event type becomes a separate column.\n",
    "# Reset the index to make 'date' a regular column instead of an index.\n"
   ]
  },
  {
   "cell_type": "code",
   "execution_count": null,
   "metadata": {},
   "outputs": [],
   "source": [
    "??pd.pivot"
   ]
  },
  {
   "cell_type": "code",
   "execution_count": null,
   "metadata": {},
   "outputs": [],
   "source": [
    "ads_data[ads_data.date == '2019-04-05'] \\\n",
    "   .groupby('ad_id')\\\n",
    "   .agg({'time': 'count'}) \\\n",
    "   .sort_values('time',ascending = False)\n",
    "\n",
    "# Filter the data for records with the date '2019-04-05'.\n",
    "# Group the filtered data by 'ad_id' and aggregate the count of 'time' for each ad.\n",
    "# Sort the aggregated counts of 'time' in descending order to identify the most frequent ads on that date.\n"
   ]
  },
  {
   "cell_type": "code",
   "execution_count": null,
   "metadata": {},
   "outputs": [],
   "source": [
    "ad_id =112583"
   ]
  },
  {
   "cell_type": "code",
   "execution_count": null,
   "metadata": {},
   "outputs": [],
   "source": [
    "ads_data.query('ad_id == @ad_id') \\\n",
    "   .groupby('date') \\\n",
    "   .agg({'time':'count'}) \\\n",
    "\n",
    "# Filter the data for records where the 'ad_id' matches the specified value.\n",
    "# Group the filtered data by 'date' and aggregate the count of 'time' for each date.\n"
   ]
  },
  {
   "cell_type": "code",
   "execution_count": null,
   "metadata": {
    "scrolled": true
   },
   "outputs": [],
   "source": [
    "ads_data.query('ad_id == @ad_id').head(1)\n",
    "\n",
    "# Filter the data for records where the 'ad_id' matches the specified value, and retrieve the first record.\n"
   ]
  },
  {
   "cell_type": "code",
   "execution_count": null,
   "metadata": {},
   "outputs": [],
   "source": [
    "#Find the top 10 ads by CTR for all time. CTR is the ratio of all ad clicks to views. For example, if an ad had 100 impressions and 2 clicks, CTR = 0.02. Does the average and median CTR of ads differ in our data?"
   ]
  },
  {
   "cell_type": "code",
   "execution_count": null,
   "metadata": {
    "scrolled": true
   },
   "outputs": [],
   "source": [
    "\n",
    "ads_data_by_ad = ads_data.groupby(['ad_id','event'],as_index=False) \\\n",
    "   .agg({'time':'count'})\\\n",
    "   .pivot(index='ad_id', columns='event', values='time').reset_index()\n",
    "\n",
    "# Group the data by 'ad_id' and 'event', aggregating the count of 'time' for each combination.\n",
    "# Pivot the resulting DataFrame to reshape it so that each event type becomes a separate column.\n",
    "# Reset the index to make 'ad_id' a regular column instead of an index.\n"
   ]
  },
  {
   "cell_type": "code",
   "execution_count": null,
   "metadata": {},
   "outputs": [],
   "source": [
    "ads_data_by_ad= ads_data_by_ad.assign(ctr = ads_data_by_ad.click / ads_data_by_ad.view,\n",
    "                         ctr_per=100 * ads_data_by_ad.click/ ads_data_by_ad.view)\n",
    "\n",
    "# Calculate the Click-Through Rate (CTR) and CTR percentage for each ad by dividing the number of clicks by the number of views.\n",
    "# Assign the calculated CTR and CTR percentage as new columns 'ctr' and 'ctr_per' respectively in the 'ads_data_by_ad' DataFrame.\n"
   ]
  },
  {
   "cell_type": "code",
   "execution_count": null,
   "metadata": {},
   "outputs": [],
   "source": [
    "ads_data_by_ad.head()"
   ]
  },
  {
   "cell_type": "code",
   "execution_count": null,
   "metadata": {},
   "outputs": [],
   "source": [
    "ads_data_by_ad.sort_values('ctr', ascending = False).head(10)\n",
    "\n",
    "# Sort the 'ads_data_by_ad' DataFrame by the calculated CTR in descending order to find the top 10 ads with the highest CTR.\n"
   ]
  },
  {
   "cell_type": "code",
   "execution_count": null,
   "metadata": {},
   "outputs": [],
   "source": [
    "ads_data_by_ad.ctr.mean()"
   ]
  },
  {
   "cell_type": "code",
   "execution_count": null,
   "metadata": {},
   "outputs": [],
   "source": [
    "ads_data_by_ad.ctr.median()"
   ]
  },
  {
   "cell_type": "code",
   "execution_count": null,
   "metadata": {},
   "outputs": [],
   "source": [
    "sns.displot(ads_data_by_ad.ctr, kde= False)"
   ]
  },
  {
   "cell_type": "code",
   "execution_count": null,
   "metadata": {},
   "outputs": [],
   "source": [
    "#It looks like there is a bug in our logs, ads come with clicks, but without impressions! How many such ads are there, are there any patterns? Is this problem observed on all platforms?"
   ]
  },
  {
   "cell_type": "code",
   "execution_count": null,
   "metadata": {},
   "outputs": [],
   "source": [
    "ads_data_by_ad=ads_data_by_ad.fillna(0)"
   ]
  },
  {
   "cell_type": "code",
   "execution_count": null,
   "metadata": {},
   "outputs": [],
   "source": [
    "ads_ids_bug = ads_data_by_ad.query('click == 0')\n",
    "# Filter the 'ads_data_by_ad' DataFrame to select ads where clicks are zero, indicating the presence of clicks without impressions.\n",
    "# This identifies the number of ads affected by the bug.\n"
   ]
  },
  {
   "cell_type": "code",
   "execution_count": null,
   "metadata": {},
   "outputs": [],
   "source": [
    "ads_ids_bug = ads_data_by_ad.query('click == 0').ad_id\n",
    "\n",
    "# Filter the 'ads_data_by_ad' DataFrame to select ad IDs where clicks are zero, indicating the presence of clicks without impressions.\n"
   ]
  },
  {
   "cell_type": "code",
   "execution_count": null,
   "metadata": {},
   "outputs": [],
   "source": [
    "ads_data[ads_data.ad_id.isin(ads_ids_bug)]  \\\n",
    "   .groupby('platform',as_index = False) \\\n",
    "   .agg({'ad_id': 'count'})\\\n",
    "   .sort_values('ad_id')\n",
    "\n",
    "# Filter the 'ads_data' DataFrame to select records corresponding to ad IDs affected by the bug.\n",
    "# Group the filtered data by 'platform', aggregating the count of affected ad IDs for each platform.\n",
    "# Sort the resulting DataFrame by the count of affected ad IDs in ascending order.\n"
   ]
  },
  {
   "cell_type": "code",
   "execution_count": null,
   "metadata": {},
   "outputs": [],
   "source": [
    "ads_data \\\n",
    "   .groupby('platform',as_index = False) \\\n",
    "   .agg({'ad_id': 'count'})\\\n",
    "   .sort_values('ad_id')\n",
    "\n",
    "# Group the 'ads_data' DataFrame by 'platform', aggregating the count of ad IDs for each platform.\n",
    "# Sort the resulting DataFrame by the count of ad IDs in ascending order.\n"
   ]
  },
  {
   "cell_type": "code",
   "execution_count": null,
   "metadata": {},
   "outputs": [],
   "source": [
    "#Are there any differences in CTR between ads with and without video? And what is the 95th percentile CTR for all ads for 2019-04-04?"
   ]
  },
  {
   "cell_type": "code",
   "execution_count": null,
   "metadata": {},
   "outputs": [],
   "source": [
    "df_2019_04_04 =ads_data[ads_data.date == '2019-04-04'].groupby(['ad_id','event'],as_index=False) \\\n",
    "   .agg({'time':'count'})\\\n",
    "   .pivot(index='ad_id', columns='event', values='time').reset_index() \\\n",
    "   .fillna(0)\n",
    "\n",
    "# Filter the 'ads_data' DataFrame to select records for the date '2019-04-04'.\n",
    "# Group the filtered data by 'ad_id' and 'event', aggregating the count of 'time' for each combination.\n",
    "# Pivot the resulting DataFrame to reshape it so that each event type becomes a separate column.\n",
    "# Reset the index to make 'ad_id' a regular column instead of an index.\n",
    "# Fill NaN values with zero.\n"
   ]
  },
  {
   "cell_type": "code",
   "execution_count": null,
   "metadata": {},
   "outputs": [],
   "source": [
    "df_2019_04_04['ctr'] = df_2019_04_04.click / df_2019_04_04.view\n",
    "\n",
    "# Calculate the Click-Through Rate (CTR) for each ad on the date '2019-04-04' by dividing the number of clicks by the number of views.\n",
    "# Assign the calculated CTR as a new column 'ctr' in the 'df_2019_04_04' DataFrame.\n",
    "\n",
    "                         "
   ]
  },
  {
   "cell_type": "code",
   "execution_count": null,
   "metadata": {},
   "outputs": [],
   "source": [
    "df_2019_04_04[df_2019_04_04.click>0].ctr.quantile(q=0.95)\n",
    "\n",
    "# Calculate the 95th percentile Click-Through Rate (CTR) for ads with at least one click on the date '2019-04-04'.\n"
   ]
  },
  {
   "cell_type": "code",
   "execution_count": null,
   "metadata": {},
   "outputs": [],
   "source": [
    "#For the financial report, we need to calculate our earnings by day. On which day did we earn the most? Which one is less? We charge customers money if there was a click on a CPC ad, and we charge money for each CPM ad impression, if the CPM ad has a price of 200 rubles, then we earn 200 / 1000 for one impression.\n",
    "#Which platform is the most popular for placing advertisements? How many percent of impressions are on each of the platforms (platform column)?"
   ]
  },
  {
   "cell_type": "code",
   "execution_count": null,
   "metadata": {},
   "outputs": [],
   "source": [
    "ads_data[(ads_data.ad_cost_type == 'CPC') & (ads_data.event == 'click')].ad_cost.sum()\n",
    "\n",
    "# Filter the 'ads_data' DataFrame to select records for CPC ads where events are clicks,\n",
    "# then sum up the total cost of these clicks.\n"
   ]
  },
  {
   "cell_type": "code",
   "execution_count": null,
   "metadata": {},
   "outputs": [],
   "source": [
    "ads_data[(ads_data.ad_cost_type == 'CPM') & (ads_data.event == 'view')].ad_cost.sum() /1000\n",
    "\n",
    "# Filter the 'ads_data' DataFrame to select records for CPM ads where events are views,\n",
    "# then sum up the total cost of these views, considering that CPM cost is per thousand impressions (divide by 1000).\n"
   ]
  },
  {
   "cell_type": "code",
   "execution_count": null,
   "metadata": {},
   "outputs": [],
   "source": [
    "# Are there any ads that were clicked on first and only then shown?"
   ]
  },
  {
   "cell_type": "code",
   "execution_count": null,
   "metadata": {},
   "outputs": [],
   "source": [
    "ads_data.groupby(['ad_id','event'],as_index =False) \\\n",
    "   .agg({'time':'min'}) \\\n",
    "   .pivot(index='ad_id', columns='event', values='time').reset_index() \\\n",
    "   .query('click<view')\n",
    "\n",
    "# Group the data by 'ad_id' and 'event', aggregating the minimum 'time' for each combination.\n",
    "# Pivot the resulting DataFrame to reshape it so that each event type becomes a separate column.\n",
    "# Reset the index to make 'ad_id' a regular column instead of an index.\n",
    "# Filter the DataFrame to select records where the click event occurred before the view event for the same ad.\n"
   ]
  },
  {
   "cell_type": "code",
   "execution_count": null,
   "metadata": {},
   "outputs": [],
   "source": [
    "ads_data[ads_data.ad_id == 16548].sort_values('time')\n",
    "\n",
    "# Filter the 'ads_data' DataFrame to select records for a specific ad (ad_id = 16548) and sort them by 'time'.\n"
   ]
  }
 ],
 "metadata": {
  "kernelspec": {
   "display_name": "Python 3",
   "language": "python",
   "name": "python3"
  },
  "language_info": {
   "codemirror_mode": {
    "name": "ipython",
    "version": 3
   },
   "file_extension": ".py",
   "mimetype": "text/x-python",
   "name": "python",
   "nbconvert_exporter": "python",
   "pygments_lexer": "ipython3",
   "version": "3.7.3"
  }
 },
 "nbformat": 4,
 "nbformat_minor": 4
}
